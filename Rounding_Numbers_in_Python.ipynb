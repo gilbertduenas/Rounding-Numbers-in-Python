{
  "nbformat": 4,
  "nbformat_minor": 0,
  "metadata": {
    "colab": {
      "name": "Rounding Numbers in Python",
      "provenance": [],
      "authorship_tag": "ABX9TyMnTlu4G6E/E4UFwKhzzAxt",
      "include_colab_link": true
    },
    "kernelspec": {
      "name": "python3",
      "display_name": "Python 3"
    }
  },
  "cells": [
    {
      "cell_type": "markdown",
      "metadata": {
        "id": "view-in-github",
        "colab_type": "text"
      },
      "source": [
        "<a href=\"https://colab.research.google.com/github/gilbertduenas/Rounding-Numbers-in-Python-Quiz/blob/master/Rounding_Numbers_in_Python.ipynb\" target=\"_parent\"><img src=\"https://colab.research.google.com/assets/colab-badge.svg\" alt=\"Open In Colab\"/></a>"
      ]
    },
    {
      "cell_type": "markdown",
      "metadata": {
        "id": "cPv5ulm-xzr_",
        "colab_type": "text"
      },
      "source": [
        "The value 1.73 rounded to one decimal place using the “rounding up” strategy is 1.8.\n",
        "\n",
        "First, move the decimal point one place to the right to get 17.3.\n",
        "\n",
        "Then round up to the nearest integer, which is 18.\n",
        "\n",
        "Finally, shift the decimal point back one place to get 1.8.\n",
        "\n",
        "---\n",
        "\n"
      ]
    },
    {
      "cell_type": "markdown",
      "metadata": {
        "id": "6G7DyEmxxz7F",
        "colab_type": "text"
      },
      "source": [
        "The value -2.961 rounded to two decimal places using the “rounding down” strategy is -2.97.\n",
        "\n",
        "Shift the decimal point two places to the right to get -296.1.\n",
        "\n",
        "Then round down to the nearest integer, which is -297 in this case, because rounding down always rounds numbers to the left (toward negative infinity) on the number line.\n",
        "\n",
        "Finally, shift the decimal point back two places to get -2.97.\n",
        "\n",
        "---"
      ]
    },
    {
      "cell_type": "markdown",
      "metadata": {
        "id": "d3B-k7FByUK0",
        "colab_type": "text"
      },
      "source": [
        "When you truncate a positive number, you just chop off digits past the digit to which you are rounding.\n",
        "\n",
        "For example, truncating 1.7365 to three decimal places results in 1.736. The result is the same as rounding down to three decimal places.\n",
        "\n",
        "On the other hand, truncating -1.7365 to three decimal places results in -1.736, which is to the right of -1.7365 on the number line, and is therefore the same as rounding up to three decimal places.\n",
        "\n",
        "---"
      ]
    },
    {
      "cell_type": "markdown",
      "metadata": {
        "id": "E5w_2j1Hxz-n",
        "colab_type": "text"
      },
      "source": [
        "The value -0.045 rounded to 2 decimal places using the “round half away from zero” strategy is -0.05.\n",
        "\n",
        "When you “round half away to zero”, you round ties up for positive numbers, and down for negative numbers.\n",
        "\n",
        "Shifting the decimal place in -0.045 to the right two decimal places gives -4.5. This is exactly between -4 and -5, but since we are rounding away from zero, we round down to -5.\n",
        "\n",
        "Finally, shift the decimal point back two places to the left to get -0.05.\n",
        "\n",
        "---"
      ]
    },
    {
      "cell_type": "markdown",
      "metadata": {
        "id": "2kY1kVOdy1_S",
        "colab_type": "text"
      },
      "source": [
        "The value 4.65 rounded to one decimal place using the “round half to even” strategy is 4.6.\n",
        "\n",
        "First, shift the decimcal point one place to the right to get 46.5. This is exactly half way between 46 and 47.\n",
        "\n",
        "According to the “round half to even” strategy, we should round 46.5 to nearest even number, which is 46.\n",
        "\n",
        "Shifting the decimal point back to the left one place gives 4.6.\n",
        "\n",
        "---"
      ]
    },
    {
      "cell_type": "markdown",
      "metadata": {
        "id": "dVU4OnJ7y1pg",
        "colab_type": "text"
      },
      "source": [
        "Rounding bias is introduced whenever more numbers in a dataset are rounded up than numbers that are rounded down.\n",
        "\n",
        "The “round down” strategy rounds every number down, so this always introduces a round towards negative infinity bias.\n",
        "\n",
        "The truncate strategy will handle bias fairly well whenever the number of positive numbers in a dataset is equal to the number of negative numbers, but will introduce a bias otherwise.\n",
        "\n",
        "The “round half up” strategy is generally free from bias, but can introduce a round towards positive infinity bias whenever there are a large number of ties in the dataset.\n",
        "\n",
        "The “round half away from zero” strategy mitigates bias better than “round half up”, but can introduce a bias if all of the ties in the dataset are positive, or all are negative.\n",
        "\n",
        "Finally, the “round half to even” strategy has no bias based on the sign of ties in the dataset. It can introduce a bias if more ties in the dataset round down to even instead of rounding up, but the probability of this happening is generally low. Out of all of the choices presented here, “round half to even” is the least biased.\n",
        "\n",
        "---"
      ]
    },
    {
      "cell_type": "code",
      "metadata": {
        "id": "FB2Fe37a1yf5",
        "colab_type": "code",
        "colab": {
          "base_uri": "https://localhost:8080/",
          "height": 35
        },
        "outputId": "55e78ea2-9fe8-4469-9952-f7801bda82dd"
      },
      "source": [
        "round(-1.225, 2)"
      ],
      "execution_count": 1,
      "outputs": [
        {
          "output_type": "execute_result",
          "data": {
            "text/plain": [
              "-1.23"
            ]
          },
          "metadata": {
            "tags": []
          },
          "execution_count": 1
        }
      ]
    },
    {
      "cell_type": "markdown",
      "metadata": {
        "id": "YP-S4TnG2Ii7",
        "colab_type": "text"
      },
      "source": [
        "This is incorrect because round() is supposed to round ties to the nearest even number, which is -1.22 in this case.\n",
        "\n",
        "The reason this happens is related to how floating-point numbers are stored on a machine.\n",
        "\n",
        "The binary decimal used to represent -1.22 is an infinitely repeating fraction, which cannot be stored accurately in memory. The computer rounds this fraction to the nearest binary decimal that can be stored in memory, which is slightly less than -1.225. So the number stored in memory for -1.225 isn’t actually a tie, and round(-1.225, 2) rounds it down to-1.23`.\n",
        "\n",
        "See the aside in the Round Half Down section of the How to Round Numbers in Python article for a more detailed explanation.\n",
        "\n",
        "---"
      ]
    },
    {
      "cell_type": "code",
      "metadata": {
        "id": "z1HGlKDv1y_S",
        "colab_type": "code",
        "colab": {}
      },
      "source": [
        "import math\n",
        "def round_half_up(n, decimals=0):\n",
        "    multiplier = 10 ** decimals\n",
        "    print(math.floor(n*multiplier + 0.5) / multiplier)"
      ],
      "execution_count": 2,
      "outputs": []
    },
    {
      "cell_type": "code",
      "metadata": {
        "id": "SuOE5r3I24kS",
        "colab_type": "code",
        "colab": {}
      },
      "source": [
        "data = [0.15, -1.45, 3.65, -7.05, 2.45]"
      ],
      "execution_count": 3,
      "outputs": []
    },
    {
      "cell_type": "code",
      "metadata": {
        "id": "hQ-LHzfu4JJP",
        "colab_type": "code",
        "colab": {
          "base_uri": "https://localhost:8080/",
          "height": 106
        },
        "outputId": "0a237a7a-24ec-4860-9b54-20681cd0f324"
      },
      "source": [
        "for i in data:\n",
        "  round_half_up(i, 1)"
      ],
      "execution_count": 4,
      "outputs": [
        {
          "output_type": "stream",
          "text": [
            "0.2\n",
            "-1.4\n",
            "3.7\n",
            "-7.0\n",
            "2.5\n"
          ],
          "name": "stdout"
        }
      ]
    },
    {
      "cell_type": "code",
      "metadata": {
        "id": "eLcRwKmS4N11",
        "colab_type": "code",
        "colab": {}
      },
      "source": [
        "def C(n, decimals=0):\n",
        "  sign = 1 if n >= 0 else -1\n",
        "  multiplier = 10 ** decimals\n",
        "  rounded_abs = math.ceil(abs(n)*multiplier - 0.5) / multiplier\n",
        "  return sign * rounded_abs"
      ],
      "execution_count": 5,
      "outputs": []
    },
    {
      "cell_type": "code",
      "metadata": {
        "id": "PGHBFQt74-ER",
        "colab_type": "code",
        "colab": {}
      },
      "source": [
        "def round_half_towards_zero(n, decimals=0):\n",
        "  sign = 1 if n >= 0 else -1\n",
        "  multiplier = 10 ** decimals\n",
        "  rounded_abs = math.ceil(abs(n)*multiplier - 0.5) / multiplier\n",
        "  print(sign * rounded_abs)"
      ],
      "execution_count": 6,
      "outputs": []
    },
    {
      "cell_type": "code",
      "metadata": {
        "id": "eo6lI2La5IZW",
        "colab_type": "code",
        "colab": {
          "base_uri": "https://localhost:8080/",
          "height": 106
        },
        "outputId": "aa5fb521-b3b4-44d2-cc61-9a2b58b493c2"
      },
      "source": [
        "for i in data:\n",
        "  round_half_towards_zero(i, 1)"
      ],
      "execution_count": 7,
      "outputs": [
        {
          "output_type": "stream",
          "text": [
            "0.1\n",
            "-1.4\n",
            "3.6\n",
            "-7.0\n",
            "2.4\n"
          ],
          "name": "stdout"
        }
      ]
    },
    {
      "cell_type": "code",
      "metadata": {
        "id": "DfV33uSI5MD_",
        "colab_type": "code",
        "colab": {}
      },
      "source": [
        ""
      ],
      "execution_count": 7,
      "outputs": []
    }
  ]
}